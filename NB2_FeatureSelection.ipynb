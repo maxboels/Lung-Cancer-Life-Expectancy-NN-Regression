{
 "cells": [
  {
   "cell_type": "code",
   "execution_count": 35,
   "metadata": {
    "scrolled": true
   },
   "outputs": [
    {
     "data": {
      "text/html": [
       "<div>\n",
       "<style scoped>\n",
       "    .dataframe tbody tr th:only-of-type {\n",
       "        vertical-align: middle;\n",
       "    }\n",
       "\n",
       "    .dataframe tbody tr th {\n",
       "        vertical-align: top;\n",
       "    }\n",
       "\n",
       "    .dataframe thead th {\n",
       "        text-align: right;\n",
       "    }\n",
       "</style>\n",
       "<table border=\"1\" class=\"dataframe\">\n",
       "  <thead>\n",
       "    <tr style=\"text-align: right;\">\n",
       "      <th></th>\n",
       "      <th>Unnamed: 0</th>\n",
       "      <th>shape</th>\n",
       "      <th>shape.1</th>\n",
       "      <th>shape.2</th>\n",
       "      <th>shape.3</th>\n",
       "      <th>shape.4</th>\n",
       "      <th>shape.5</th>\n",
       "      <th>shape.6</th>\n",
       "      <th>shape.7</th>\n",
       "      <th>firstorder</th>\n",
       "      <th>...</th>\n",
       "      <th>textural.21</th>\n",
       "      <th>textural.22</th>\n",
       "      <th>textural.23</th>\n",
       "      <th>textural.24</th>\n",
       "      <th>textural.25</th>\n",
       "      <th>textural.26</th>\n",
       "      <th>textural.27</th>\n",
       "      <th>textural.28</th>\n",
       "      <th>textural.29</th>\n",
       "      <th>textural.30</th>\n",
       "    </tr>\n",
       "  </thead>\n",
       "  <tbody>\n",
       "    <tr>\n",
       "      <th>0</th>\n",
       "      <td>2</td>\n",
       "      <td>0.027815</td>\n",
       "      <td>0.274892</td>\n",
       "      <td>48.559242</td>\n",
       "      <td>1.537964</td>\n",
       "      <td>0.650210</td>\n",
       "      <td>5431.333210</td>\n",
       "      <td>0.275228</td>\n",
       "      <td>19786.0</td>\n",
       "      <td>3.942944e+09</td>\n",
       "      <td>...</td>\n",
       "      <td>1.457980</td>\n",
       "      <td>555.378594</td>\n",
       "      <td>14592.303727</td>\n",
       "      <td>0.891330</td>\n",
       "      <td>0.003562</td>\n",
       "      <td>954.749135</td>\n",
       "      <td>0.003384</td>\n",
       "      <td>851.987373</td>\n",
       "      <td>0.004444</td>\n",
       "      <td>1651.710761</td>\n",
       "    </tr>\n",
       "    <tr>\n",
       "      <th>1</th>\n",
       "      <td>3</td>\n",
       "      <td>0.023015</td>\n",
       "      <td>0.188210</td>\n",
       "      <td>75.703368</td>\n",
       "      <td>1.744961</td>\n",
       "      <td>0.573079</td>\n",
       "      <td>10369.568729</td>\n",
       "      <td>0.240727</td>\n",
       "      <td>43168.0</td>\n",
       "      <td>3.122890e+09</td>\n",
       "      <td>...</td>\n",
       "      <td>2.512125</td>\n",
       "      <td>1766.619373</td>\n",
       "      <td>22881.932686</td>\n",
       "      <td>0.766032</td>\n",
       "      <td>0.002246</td>\n",
       "      <td>1092.823724</td>\n",
       "      <td>0.002069</td>\n",
       "      <td>884.838627</td>\n",
       "      <td>0.003633</td>\n",
       "      <td>3386.995589</td>\n",
       "    </tr>\n",
       "    <tr>\n",
       "      <th>2</th>\n",
       "      <td>4</td>\n",
       "      <td>0.027348</td>\n",
       "      <td>0.265740</td>\n",
       "      <td>70.434367</td>\n",
       "      <td>1.555420</td>\n",
       "      <td>0.642913</td>\n",
       "      <td>10558.818691</td>\n",
       "      <td>0.200766</td>\n",
       "      <td>52655.0</td>\n",
       "      <td>1.059535e+09</td>\n",
       "      <td>...</td>\n",
       "      <td>4.096838</td>\n",
       "      <td>3462.816344</td>\n",
       "      <td>18773.106002</td>\n",
       "      <td>0.644554</td>\n",
       "      <td>0.001880</td>\n",
       "      <td>878.989601</td>\n",
       "      <td>0.001635</td>\n",
       "      <td>634.910036</td>\n",
       "      <td>0.004869</td>\n",
       "      <td>4232.418080</td>\n",
       "    </tr>\n",
       "    <tr>\n",
       "      <th>3</th>\n",
       "      <td>5</td>\n",
       "      <td>0.026811</td>\n",
       "      <td>0.255406</td>\n",
       "      <td>46.818800</td>\n",
       "      <td>1.576120</td>\n",
       "      <td>0.634469</td>\n",
       "      <td>4221.412123</td>\n",
       "      <td>0.323878</td>\n",
       "      <td>13074.0</td>\n",
       "      <td>6.583324e+08</td>\n",
       "      <td>...</td>\n",
       "      <td>1.824328</td>\n",
       "      <td>683.869792</td>\n",
       "      <td>7978.285176</td>\n",
       "      <td>0.828138</td>\n",
       "      <td>0.002855</td>\n",
       "      <td>907.045929</td>\n",
       "      <td>0.002680</td>\n",
       "      <td>774.885387</td>\n",
       "      <td>0.003901</td>\n",
       "      <td>1844.746046</td>\n",
       "    </tr>\n",
       "    <tr>\n",
       "      <th>4</th>\n",
       "      <td>6</td>\n",
       "      <td>0.023691</td>\n",
       "      <td>0.199424</td>\n",
       "      <td>53.795911</td>\n",
       "      <td>1.711620</td>\n",
       "      <td>0.584242</td>\n",
       "      <td>5295.900331</td>\n",
       "      <td>0.327241</td>\n",
       "      <td>16237.0</td>\n",
       "      <td>8.072532e+08</td>\n",
       "      <td>...</td>\n",
       "      <td>2.652580</td>\n",
       "      <td>962.094760</td>\n",
       "      <td>7520.054910</td>\n",
       "      <td>0.734898</td>\n",
       "      <td>0.006710</td>\n",
       "      <td>1513.420445</td>\n",
       "      <td>0.004704</td>\n",
       "      <td>1197.140900</td>\n",
       "      <td>0.023273</td>\n",
       "      <td>4444.272812</td>\n",
       "    </tr>\n",
       "  </tbody>\n",
       "</table>\n",
       "<p>5 rows × 54 columns</p>\n",
       "</div>"
      ],
      "text/plain": [
       "   Unnamed: 0     shape   shape.1    shape.2   shape.3   shape.4  \\\n",
       "0           2  0.027815  0.274892  48.559242  1.537964  0.650210   \n",
       "1           3  0.023015  0.188210  75.703368  1.744961  0.573079   \n",
       "2           4  0.027348  0.265740  70.434367  1.555420  0.642913   \n",
       "3           5  0.026811  0.255406  46.818800  1.576120  0.634469   \n",
       "4           6  0.023691  0.199424  53.795911  1.711620  0.584242   \n",
       "\n",
       "        shape.5   shape.6  shape.7    firstorder  ...  textural.21  \\\n",
       "0   5431.333210  0.275228  19786.0  3.942944e+09  ...     1.457980   \n",
       "1  10369.568729  0.240727  43168.0  3.122890e+09  ...     2.512125   \n",
       "2  10558.818691  0.200766  52655.0  1.059535e+09  ...     4.096838   \n",
       "3   4221.412123  0.323878  13074.0  6.583324e+08  ...     1.824328   \n",
       "4   5295.900331  0.327241  16237.0  8.072532e+08  ...     2.652580   \n",
       "\n",
       "   textural.22   textural.23  textural.24  textural.25  textural.26  \\\n",
       "0   555.378594  14592.303727     0.891330     0.003562   954.749135   \n",
       "1  1766.619373  22881.932686     0.766032     0.002246  1092.823724   \n",
       "2  3462.816344  18773.106002     0.644554     0.001880   878.989601   \n",
       "3   683.869792   7978.285176     0.828138     0.002855   907.045929   \n",
       "4   962.094760   7520.054910     0.734898     0.006710  1513.420445   \n",
       "\n",
       "   textural.27  textural.28  textural.29  textural.30  \n",
       "0     0.003384   851.987373     0.004444  1651.710761  \n",
       "1     0.002069   884.838627     0.003633  3386.995589  \n",
       "2     0.001635   634.910036     0.004869  4232.418080  \n",
       "3     0.002680   774.885387     0.003901  1844.746046  \n",
       "4     0.004704  1197.140900     0.023273  4444.272812  \n",
       "\n",
       "[5 rows x 54 columns]"
      ]
     },
     "execution_count": 35,
     "metadata": {},
     "output_type": "execute_result"
    }
   ],
   "source": [
    "%matplotlib inline\n",
    "import matplotlib.pyplot as plt\n",
    "\n",
    "#Load libraries for data processing\n",
    "import pandas as pd #data processing, CSV file I/O (e.g. pd.read_csv)\n",
    "import numpy as np\n",
    "from scipy.stats import norm\n",
    "\n",
    "# visualization\n",
    "import seaborn as sns \n",
    "plt.style.use('fivethirtyeight')\n",
    "sns.set_style(\"white\")\n",
    "\n",
    "\n",
    "plt.rcParams['figure.figsize'] = (8,4) \n",
    "#plt.rcParams['axes.titlesize'] = 'large'\n",
    "\n",
    "labels = pd.read_csv('train_output.csv', index_col=False)\n",
    "data = pd.read_csv('Train set/clean-data.csv', index_col=False)\n",
    " \n",
    "\n",
    "data.head()"
   ]
  },
  {
   "cell_type": "code",
   "execution_count": 32,
   "metadata": {},
   "outputs": [
    {
     "data": {
      "text/html": [
       "<div>\n",
       "<style scoped>\n",
       "    .dataframe tbody tr th:only-of-type {\n",
       "        vertical-align: middle;\n",
       "    }\n",
       "\n",
       "    .dataframe tbody tr th {\n",
       "        vertical-align: top;\n",
       "    }\n",
       "\n",
       "    .dataframe thead th {\n",
       "        text-align: right;\n",
       "    }\n",
       "</style>\n",
       "<table border=\"1\" class=\"dataframe\">\n",
       "  <thead>\n",
       "    <tr style=\"text-align: right;\">\n",
       "      <th></th>\n",
       "      <th>PatientID</th>\n",
       "      <th>SurvivalTime</th>\n",
       "      <th>Event</th>\n",
       "    </tr>\n",
       "  </thead>\n",
       "  <tbody>\n",
       "    <tr>\n",
       "      <th>0</th>\n",
       "      <td>202</td>\n",
       "      <td>1378</td>\n",
       "      <td>0</td>\n",
       "    </tr>\n",
       "    <tr>\n",
       "      <th>1</th>\n",
       "      <td>371</td>\n",
       "      <td>379</td>\n",
       "      <td>1</td>\n",
       "    </tr>\n",
       "    <tr>\n",
       "      <th>2</th>\n",
       "      <td>246</td>\n",
       "      <td>573</td>\n",
       "      <td>1</td>\n",
       "    </tr>\n",
       "    <tr>\n",
       "      <th>3</th>\n",
       "      <td>240</td>\n",
       "      <td>959</td>\n",
       "      <td>0</td>\n",
       "    </tr>\n",
       "    <tr>\n",
       "      <th>4</th>\n",
       "      <td>284</td>\n",
       "      <td>2119</td>\n",
       "      <td>0</td>\n",
       "    </tr>\n",
       "  </tbody>\n",
       "</table>\n",
       "</div>"
      ],
      "text/plain": [
       "   PatientID  SurvivalTime  Event\n",
       "0        202          1378      0\n",
       "1        371           379      1\n",
       "2        246           573      1\n",
       "3        240           959      0\n",
       "4        284          2119      0"
      ]
     },
     "execution_count": 32,
     "metadata": {},
     "output_type": "execute_result"
    }
   ],
   "source": [
    "labels.head()"
   ]
  },
  {
   "cell_type": "code",
   "execution_count": 31,
   "metadata": {},
   "outputs": [
    {
     "data": {
      "text/plain": [
       "0    0\n",
       "1    1\n",
       "2    1\n",
       "3    0\n",
       "4    0\n",
       "Name: Event, dtype: int64"
      ]
     },
     "execution_count": 31,
     "metadata": {},
     "output_type": "execute_result"
    }
   ],
   "source": [
    "Event = labels['Event']\n",
    "Event.head()"
   ]
  },
  {
   "cell_type": "code",
   "execution_count": 20,
   "metadata": {},
   "outputs": [
    {
     "data": {
      "text/plain": [
       "0    1378\n",
       "1     379\n",
       "2     573\n",
       "3     959\n",
       "4    2119\n",
       "Name: SurvivalTime, dtype: int64"
      ]
     },
     "execution_count": 20,
     "metadata": {},
     "output_type": "execute_result"
    }
   ],
   "source": [
    "#Assign predictors to a variable of ndarray (matrix) type\n",
    "array = data.values\n",
    "X = array[:,0:53]\n",
    "\n",
    "y = labels['SurvivalTime']\n",
    "y.head()"
   ]
  },
  {
   "cell_type": "code",
   "execution_count": 21,
   "metadata": {},
   "outputs": [],
   "source": [
    "from sklearn.preprocessing import StandardScaler\n",
    "\n",
    "# Normalize the  data (center around 0 and scale to 1 standard deviation).\n",
    "scaler = StandardScaler()\n",
    "Xs = scaler.fit_transform(X)"
   ]
  },
  {
   "cell_type": "code",
   "execution_count": 22,
   "metadata": {
    "scrolled": true
   },
   "outputs": [
    {
     "name": "stdout",
     "output_type": "stream",
     "text": [
      "[25.56614676  8.18901919  4.01963226  3.08003912  2.41853172  2.02710271\n",
      "  1.29841875  1.20742522  1.00176896  0.97597425  0.85643215  0.44554272\n",
      "  0.42509393  0.27856148]\n",
      "[0.48077219 0.63476696 0.71035627 0.7682765  0.81375707 0.8518768\n",
      " 0.8762936  0.89899927 0.91783757 0.93619079 0.95229603 0.96067447\n",
      " 0.96866838 0.97390673]\n",
      "[0.48077219 0.15399476 0.07558931 0.05792023 0.04548057 0.03811973\n",
      " 0.02441681 0.02270567 0.0188383  0.01835323 0.01610523 0.00837844\n",
      " 0.0079939  0.00523836]\n"
     ]
    }
   ],
   "source": [
    "from sklearn.decomposition import PCA\n",
    "# feature extraction\n",
    "pca = PCA(n_components=14)\n",
    "fit = pca.fit(Xs)\n",
    "\n",
    "# summarize components\n",
    "print(fit.explained_variance_)\n",
    "var = fit.explained_variance_ratio_\n",
    "print(fit.explained_variance_ratio_.cumsum())\n",
    "print(var)"
   ]
  },
  {
   "cell_type": "code",
   "execution_count": 23,
   "metadata": {
    "scrolled": true
   },
   "outputs": [
    {
     "data": {
      "image/png": "[encoded data removed]",
      "text/plain": [
       "<Figure size 576x288 with 1 Axes>"
      ]
     },
     "metadata": {},
     "output_type": "display_data"
    }
   ],
   "source": [
    "X_pca = pca.transform(Xs)\n",
    "\n",
    "PCA_df = pd.DataFrame()\n",
    "\n",
    "PCA_df['PCA_1'] = X_pca[:,0]\n",
    "PCA_df['PCA_2'] = X_pca[:,1]\n",
    "\n",
    "plt.plot(PCA_df['PCA_1'][labels.Event == 1],PCA_df['PCA_2'][labels.Event == 1],'o', alpha = 0.7, color = 'r')\n",
    "plt.plot(PCA_df['PCA_1'][labels.Event == 0],PCA_df['PCA_2'][labels.Event == 0],'o', alpha = 0.7, color = 'b')\n",
    "\n",
    "plt.xlabel('PCA_1')\n",
    "plt.ylabel('PCA_2')\n",
    "plt.legend(['Survived','Unkown'])\n",
    "plt.show()"
   ]
  },
  {
   "cell_type": "code",
   "execution_count": 24,
   "metadata": {
    "scrolled": false
   },
   "outputs": [
    {
     "data": {
      "image/png": "[encoded data removed]",
      "text/plain": [
       "<Figure size 576x288 with 1 Axes>"
      ]
     },
     "metadata": {},
     "output_type": "display_data"
    }
   ],
   "source": [
    "# Elbow graph for number of dimensions to retain.\n",
    "plt.plot(var)\n",
    "plt.title('Scree Plot')\n",
    "plt.xlabel('Principal Component')\n",
    "plt.ylabel('Eigenvalue')\n",
    "\n",
    "leg = plt.legend(['Eigenvalues from PCA'], loc='best', borderpad=0.3,shadow=False,markerscale=0.4)\n",
    "leg.get_frame().set_alpha(0.4)\n",
    "plt.show()"
   ]
  },
  {
   "cell_type": "code",
   "execution_count": 25,
   "metadata": {},
   "outputs": [
    {
     "data": {
      "text/plain": [
       "array([[-4.73938338e+00,  1.18558103e+00, -2.37470828e-01, ...,\n",
       "         5.73234739e-01, -4.89526740e-01,  2.80750835e-01],\n",
       "       [ 3.38738657e-01,  8.40441310e-01,  1.02577519e-01, ...,\n",
       "         1.04340984e-01, -1.52862031e-01, -1.69474743e-01],\n",
       "       [ 3.52529232e+00, -2.75138602e+00,  4.79910250e-01, ...,\n",
       "        -1.65360171e-01, -3.07849398e-01,  8.61716203e-02],\n",
       "       ...,\n",
       "       [ 8.04529005e+00, -3.46780003e+00,  2.44577418e-01, ...,\n",
       "         1.90890278e+00,  1.78401899e-01,  6.00879860e-01],\n",
       "       [-8.11150302e+00, -1.67536692e+00,  1.02900428e+00, ...,\n",
       "        -5.83029267e-02, -2.16946788e-01,  1.37432867e-01],\n",
       "       [ 1.01392373e+00, -5.59122157e-01, -2.72035468e-02, ...,\n",
       "        -3.03043771e-01, -3.37793800e-01, -3.94689867e-03]])"
      ]
     },
     "execution_count": 25,
     "metadata": {},
     "output_type": "execute_result"
    }
   ],
   "source": [
    "X_pca"
   ]
  },
  {
   "cell_type": "code",
   "execution_count": 26,
   "metadata": {},
   "outputs": [],
   "source": [
    "pca_trainset = pd.DataFrame(X_pca)\n",
    "y = pd.DataFrame(y)\n"
   ]
  },
  {
   "cell_type": "code",
   "execution_count": 27,
   "metadata": {},
   "outputs": [
    {
     "data": {
      "text/html": [
       "<div>\n",
       "<style scoped>\n",
       "    .dataframe tbody tr th:only-of-type {\n",
       "        vertical-align: middle;\n",
       "    }\n",
       "\n",
       "    .dataframe tbody tr th {\n",
       "        vertical-align: top;\n",
       "    }\n",
       "\n",
       "    .dataframe thead th {\n",
       "        text-align: right;\n",
       "    }\n",
       "</style>\n",
       "<table border=\"1\" class=\"dataframe\">\n",
       "  <thead>\n",
       "    <tr style=\"text-align: right;\">\n",
       "      <th></th>\n",
       "      <th>SurvivalTime</th>\n",
       "    </tr>\n",
       "  </thead>\n",
       "  <tbody>\n",
       "    <tr>\n",
       "      <th>0</th>\n",
       "      <td>1378</td>\n",
       "    </tr>\n",
       "    <tr>\n",
       "      <th>1</th>\n",
       "      <td>379</td>\n",
       "    </tr>\n",
       "    <tr>\n",
       "      <th>2</th>\n",
       "      <td>573</td>\n",
       "    </tr>\n",
       "    <tr>\n",
       "      <th>3</th>\n",
       "      <td>959</td>\n",
       "    </tr>\n",
       "    <tr>\n",
       "      <th>4</th>\n",
       "      <td>2119</td>\n",
       "    </tr>\n",
       "  </tbody>\n",
       "</table>\n",
       "</div>"
      ],
      "text/plain": [
       "   SurvivalTime\n",
       "0          1378\n",
       "1           379\n",
       "2           573\n",
       "3           959\n",
       "4          2119"
      ]
     },
     "execution_count": 27,
     "metadata": {},
     "output_type": "execute_result"
    }
   ],
   "source": [
    "y.head()"
   ]
  },
  {
   "cell_type": "code",
   "execution_count": 36,
   "metadata": {},
   "outputs": [],
   "source": [
    "#save the cleaner version of dataframe for future analyis\n",
    "pca_trainset.to_csv('pca_trainset.csv')\n",
    "y.to_csv('labels.csv')\n",
    "Event.to_csv('Event.csv')\n"
   ]
  }
 ],
 "metadata": {
  "kernelspec": {
   "display_name": "Python 3",
   "language": "python",
   "name": "python3"
  },
  "language_info": {
   "codemirror_mode": {
    "name": "ipython",
    "version": 3
   },
   "file_extension": ".py",
   "mimetype": "text/x-python",
   "name": "python",
   "nbconvert_exporter": "python",
   "pygments_lexer": "ipython3",
   "version": "3.7.6"
  },
  "toc": {
   "base_numbering": 1,
   "nav_menu": {},
   "number_sections": true,
   "sideBar": true,
   "skip_h1_title": false,
   "title_cell": "Table of Contents",
   "title_sidebar": "Contents",
   "toc_cell": false,
   "toc_position": {},
   "toc_section_display": true,
   "toc_window_display": false
  }
 },
 "nbformat": 4,
 "nbformat_minor": 2
}
